{
 "cells": [
  {
   "cell_type": "markdown",
   "metadata": {},
   "source": [
    "# Profiling in C++\n",
    "\n",
    "## Time the execution\n",
    "\n",
    "[NaiveFibonacci.cpp](NaiveFibonacci.cpp)"
   ]
  },
  {
   "cell_type": "code",
   "execution_count": 1,
   "metadata": {
    "collapsed": false
   },
   "outputs": [
    {
     "name": "stdout",
     "output_type": "stream",
     "text": [
      "g++ -std=c++11 NaiveFibonacci.cpp -o naive\r\n"
     ]
    }
   ],
   "source": [
    "!make naive_time"
   ]
  },
  {
   "cell_type": "markdown",
   "metadata": {},
   "source": [
    "'time' is a bash function that execute a command and displays information about resources used by the command.\n",
    "\n",
    "'-p' for results in seconds.\n",
    "\n",
    "For more information:"
   ]
  },
  {
   "cell_type": "code",
   "execution_count": null,
   "metadata": {
    "collapsed": false
   },
   "outputs": [],
   "source": [
    "!man time"
   ]
  },
  {
   "cell_type": "code",
   "execution_count": 2,
   "metadata": {
    "collapsed": false
   },
   "outputs": [
    {
     "name": "stdout",
     "output_type": "stream",
     "text": [
      "5th fibonacci number: 5\r\n",
      "real 0.00\r\n",
      "user 0.00\r\n",
      "sys 0.00\r\n"
     ]
    }
   ],
   "source": [
    "!time -p ./naive 5"
   ]
  },
  {
   "cell_type": "code",
   "execution_count": 3,
   "metadata": {
    "collapsed": false,
    "scrolled": true
   },
   "outputs": [
    {
     "name": "stdout",
     "output_type": "stream",
     "text": [
      "35th fibonacci number: 9227465\r\n",
      "real 0.07\r\n",
      "user 0.07\r\n",
      "sys 0.00\r\n"
     ]
    }
   ],
   "source": [
    "!time -p ./naive 35"
   ]
  },
  {
   "cell_type": "code",
   "execution_count": 4,
   "metadata": {
    "collapsed": false
   },
   "outputs": [
    {
     "name": "stdout",
     "output_type": "stream",
     "text": [
      "40th fibonacci number: 102334155\r\n",
      "real 0.71\r\n",
      "user 0.71\r\n",
      "sys 0.00\r\n"
     ]
    }
   ],
   "source": [
    "!time -p ./naive 40"
   ]
  },
  {
   "cell_type": "code",
   "execution_count": 5,
   "metadata": {
    "collapsed": false
   },
   "outputs": [
    {
     "name": "stdout",
     "output_type": "stream",
     "text": [
      "42th fibonacci number: 267914296\r\n",
      "real 1.90\r\n",
      "user 1.89\r\n",
      "sys 0.00\r\n"
     ]
    }
   ],
   "source": [
    "!time -p ./naive 42"
   ]
  },
  {
   "cell_type": "markdown",
   "metadata": {
    "collapsed": false
   },
   "source": [
    "Time is increasing quicly, because of exponential complexity of code.\n",
    "\n",
    "The real value is using the gettimeofday\n",
    "\n",
    "Execution time is user + sys."
   ]
  },
  {
   "cell_type": "markdown",
   "metadata": {},
   "source": [
    "## Gprof2dot\n",
    "\n",
    "Please refer to main project page : https://github.com/jrfonseca/gprof2dot\n",
    "\n",
    "## Profiling with perf\n",
    "\n",
    "Must be compiled with '-g' option."
   ]
  },
  {
   "cell_type": "code",
   "execution_count": 6,
   "metadata": {
    "collapsed": false,
    "scrolled": false
   },
   "outputs": [
    {
     "name": "stdout",
     "output_type": "stream",
     "text": [
      "g++ -std=c++11 -g NaiveFibonacci.cpp -o naive\n",
      "perf record -g -- ./naive 42\n",
      "WARNING: Kernel address maps (/proc/{kallsyms,modules}) are restricted,\n",
      "check /proc/sys/kernel/kptr_restrict.\n",
      "\n",
      "Samples in kernel functions may not be resolved if a suitable vmlinux\n",
      "file is not found in the buildid cache or in the vmlinux path.\n",
      "\n",
      "Samples in kernel modules won't be resolved at all.\n",
      "\n",
      "If some relocation was applied (e.g. kexec) symbols may be misresolved\n",
      "even with a suitable vmlinux or kallsyms file.\n",
      "\n",
      "42th fibonacci number: 267914296\n",
      "[ perf record: Woken up 10 times to write data ]\n",
      "[ perf record: Captured and wrote 2.301 MB perf.data (~100553 samples) ]\n",
      "[kernel.kallsyms] with build id af2912cf2a7fc9eab1d75c4cd0ce5c02d9cd16a7 not found, continuing without symbols\n",
      "perf script | c++filt | ./gprof2dot.py -f perf | dot -Tpng -o images/output_naive_perf.png\n",
      "[kernel.kallsyms] with build id af2912cf2a7fc9eab1d75c4cd0ce5c02d9cd16a7 not found, continuing without symbols\n"
     ]
    }
   ],
   "source": [
    "!make naive_perf"
   ]
  },
  {
   "cell_type": "markdown",
   "metadata": {},
   "source": [
    "'perf' shall be launch with sudo to remove warnings and errors.\n",
    "<img src=\"images/output_naive_perf.png\">\n",
    "Number of calls is not displayed."
   ]
  },
  {
   "cell_type": "markdown",
   "metadata": {},
   "source": [
    "### Native Perf User Interface"
   ]
  },
  {
   "cell_type": "code",
   "execution_count": null,
   "metadata": {
    "collapsed": false
   },
   "outputs": [],
   "source": [
    "!make naive_perf_bis"
   ]
  },
  {
   "cell_type": "markdown",
   "metadata": {},
   "source": [
    "## Profiling with callgrind\n",
    "\n",
    "Must be compiled with '-g' option."
   ]
  },
  {
   "cell_type": "code",
   "execution_count": 7,
   "metadata": {
    "collapsed": false
   },
   "outputs": [
    {
     "name": "stdout",
     "output_type": "stream",
     "text": [
      "g++ -std=c++11 -g NaiveFibonacci.cpp -o naive\n",
      "valgrind --tool=callgrind --callgrind-out-file=\"callgrind.out\" ./naive 38\n",
      "==8306== Callgrind, a call-graph generating cache profiler\n",
      "==8306== Copyright (C) 2002-2013, and GNU GPL'd, by Josef Weidendorfer et al.\n",
      "==8306== Using Valgrind-3.10.1 and LibVEX; rerun with -h for copyright info\n",
      "==8306== Command: ./naive 38\n",
      "==8306== \n",
      "==8306== For interactive control, run 'callgrind_control -h'.\n",
      "38th fibonacci number: 39088169\n",
      "==8306== \n",
      "==8306== Events    : Ir\n",
      "==8306== Collected : 2151735399\n",
      "==8306== \n",
      "==8306== I   refs:      2,151,735,399\n",
      "./gprof2dot.py --format=callgrind callgrind.out | dot -Tpng -o images/output_naive_callgrind.png\n"
     ]
    }
   ],
   "source": [
    "!make naive_callgrind"
   ]
  },
  {
   "cell_type": "markdown",
   "metadata": {},
   "source": [
    "<img src=\"images/output_naive_callgrind.png\">\n",
    "Callgrind slows down significantly the execution time (x100)."
   ]
  },
  {
   "cell_type": "markdown",
   "metadata": {},
   "source": [
    "### Native callgrind User Interface"
   ]
  },
  {
   "cell_type": "code",
   "execution_count": null,
   "metadata": {
    "collapsed": false
   },
   "outputs": [],
   "source": [
    "!kcachegrind"
   ]
  },
  {
   "cell_type": "markdown",
   "metadata": {
    "collapsed": true
   },
   "source": [
    "## Profiling with gprof\n",
    "\n",
    "Must be compiled with '-pg' option."
   ]
  },
  {
   "cell_type": "code",
   "execution_count": 8,
   "metadata": {
    "collapsed": false
   },
   "outputs": [
    {
     "name": "stdout",
     "output_type": "stream",
     "text": [
      "g++ -std=c++11 -pg NaiveFibonacci.cpp -o naive\n",
      "./naive 42\n",
      "42th fibonacci number: 267914296\n",
      "gprof ./naive | ./gprof2dot.py | dot -Tpng -o images/output_naive_gprof.png\n"
     ]
    }
   ],
   "source": [
    "!make naive_gprof"
   ]
  },
  {
   "cell_type": "markdown",
   "metadata": {
    "collapsed": false
   },
   "source": [
    "<img src=\"images/output_naive_gprof.png\">\n",
    "Number of fibonacci function calls is displayed : 866988873 !!"
   ]
  },
  {
   "cell_type": "markdown",
   "metadata": {
    "collapsed": true
   },
   "source": [
    "## Let's have a bad optimization idea\n",
    "\n",
    "Let's parallelize the call of Fibonacci function\n",
    "\n",
    "[ParallelFibonacci.cpp](ParallelFibonacci.cpp)"
   ]
  },
  {
   "cell_type": "code",
   "execution_count": 9,
   "metadata": {
    "collapsed": false
   },
   "outputs": [
    {
     "name": "stdout",
     "output_type": "stream",
     "text": [
      "g++ ParallelFibonacci.cpp -I /usr/include/tbb -ltbb -pg -std=c++11 -o para\n",
      "time -p ./para 35\n",
      "35th fibonacci number: 9227465\n",
      "real 8.69\n",
      "user 33.91\n",
      "sys 0.02\n",
      "gprof ./para | ./gprof2dot.py | dot -Tpng -o images/output_para_gprof.png\n"
     ]
    }
   ],
   "source": [
    "!make para_gprof"
   ]
  },
  {
   "cell_type": "markdown",
   "metadata": {},
   "source": [
    "<img src=\"images/output_para_gprof.png\">"
   ]
  },
  {
   "cell_type": "markdown",
   "metadata": {},
   "source": [
    "If you do not need function and template arguments information, then pass the -s in order to strip them.\n",
    "\n",
    "If you want to keep all that information, or if the labels are still too wide, then you can pass the -w in order to wrap the labels.\n",
    "\n",
    "You can still force displaying the whole graph by setting a zero threshold for nodes and edges via the -n0 and -e0."
   ]
  },
  {
   "cell_type": "markdown",
   "metadata": {},
   "source": [
    "## A better optimization idea\n",
    "\n",
    "Let's iterate in the other order (memoization would be another solution).\n",
    "\n",
    "[IterativeFibonacci.cpp](IterativeFibonacci.cpp)"
   ]
  },
  {
   "cell_type": "code",
   "execution_count": 10,
   "metadata": {
    "collapsed": false
   },
   "outputs": [
    {
     "name": "stdout",
     "output_type": "stream",
     "text": [
      "g++ -std=c++11 -pg IterativeFibonacci.cpp -o iter\n",
      "time -p ./iter 42\n",
      "42th fibonacci number: 267914296\n",
      "real 0.00\n",
      "user 0.00\n",
      "sys 0.00\n",
      "gprof ./iter | ./gprof2dot.py | dot -Tpng -o images/output_iter_gprof.png\n"
     ]
    }
   ],
   "source": [
    "!make iter_gprof"
   ]
  },
  {
   "cell_type": "markdown",
   "metadata": {},
   "source": [
    "<img src=\"images/output_iter_gprof.png\">"
   ]
  },
  {
   "cell_type": "markdown",
   "metadata": {},
   "source": [
    "## Another optimization idea\n",
    "\n",
    "Let's use meta-programmation.\n",
    "\n",
    "[MetaFibonacci.cpp](MetaFibonacci.cpp)"
   ]
  },
  {
   "cell_type": "code",
   "execution_count": 11,
   "metadata": {
    "collapsed": false
   },
   "outputs": [
    {
     "name": "stdout",
     "output_type": "stream",
     "text": [
      "g++ -std=c++11 -pg MetaFibonacci.cpp -o meta\n",
      "time -p ./meta\n",
      "42th fibonacci number: 267914296\n",
      "real 0.00\n",
      "user 0.00\n",
      "sys 0.00\n",
      "gprof ./meta | ./gprof2dot.py | dot -Tpng -o images/output_meta_gprof.png\n"
     ]
    }
   ],
   "source": [
    "!make meta_gprof"
   ]
  },
  {
   "cell_type": "markdown",
   "metadata": {},
   "source": [
    "<img src=\"images/output_meta_gprof.png\">"
   ]
  }
 ],
 "metadata": {
  "kernelspec": {
   "display_name": "Python 2",
   "language": "python",
   "name": "python2"
  },
  "language_info": {
   "codemirror_mode": {
    "name": "ipython",
    "version": 2
   },
   "file_extension": ".py",
   "mimetype": "text/x-python",
   "name": "python",
   "nbconvert_exporter": "python",
   "pygments_lexer": "ipython2",
   "version": "2.7.6"
  }
 },
 "nbformat": 4,
 "nbformat_minor": 0
}
